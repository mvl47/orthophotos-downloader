{
 "cells": [
  {
   "cell_type": "markdown",
   "id": "25c6c717",
   "metadata": {},
   "source": [
    "# Auto Orthophotos Downloader Demo\n",
    "\n",
    "This demo shows how to use the new `AutoOrthophotoDownloader` that automatically detects which WMS services are needed for a given area and downloads orthophotos from all relevant services.\n",
    "\n",
    "This is particularly useful when your area of interest spans multiple German federal states, each with their own WMS service."
   ]
  },
  {
   "cell_type": "code",
   "execution_count": null,
   "id": "ce201609",
   "metadata": {},
   "outputs": [],
   "source": [
    "import geopandas as gpd\n",
    "import matplotlib.pyplot as plt\n",
    "from pathlib import Path\n",
    "from shapely.geometry import box\n",
    "\n",
    "# Import the new auto downloader\n",
    "from orthophotos_downloader.data_scraping.auto_downloader import AutoOrthophotoDownloader, auto_download_orthophotos"
   ]
  },
  {
   "cell_type": "markdown",
   "id": "2b9db6a8",
   "metadata": {},
   "source": [
    "## 1. Create a Test Area That Spans Multiple States\n",
    "\n",
    "For this demo, we'll create a test area that spans the border between Bavaria (BY) and Baden-Württemberg (BW)."
   ]
  },
  {
   "cell_type": "code",
   "execution_count": null,
   "id": "ca8d46a0",
   "metadata": {},
   "outputs": [],
   "source": [
    "# Create a test area that spans Bavaria and Baden-Württemberg border\n",
    "# These coordinates are in EPSG:25832 (UTM Zone 32N)\n",
    "# Area around Ulm/Neu-Ulm which is on the border\n",
    "test_area_bbox = box(570000, 5370000, 580000, 5380000)  # 10km x 10km area\n",
    "\n",
    "# Create a GeoDataFrame\n",
    "test_area = gpd.GeoDataFrame([1], geometry=[test_area_bbox], crs=\"EPSG:25832\")\n",
    "\n",
    "# Plot the test area\n",
    "fig, ax = plt.subplots(figsize=(10, 10))\n",
    "test_area.plot(ax=ax, color='red', alpha=0.7, edgecolor='black')\n",
    "ax.set_title('Test Area Spanning Multiple States')\n",
    "plt.show()\n",
    "\n",
    "print(f\"Test area bounds: {test_area.bounds}\")"
   ]
  },
  {
   "cell_type": "markdown",
   "id": "d3870496",
   "metadata": {},
   "source": [
    "## 2. Detect Which States Intersect With Our Area\n",
    "\n",
    "Let's use the auto downloader to detect which German federal states intersect with our test area."
   ]
  },
  {
   "cell_type": "code",
   "execution_count": null,
   "id": "27f31734",
   "metadata": {},
   "outputs": [],
   "source": [
    "# Create an auto downloader instance\n",
    "auto_downloader = AutoOrthophotoDownloader(grid_spacing=1000)  # 1km tiles\n",
    "\n",
    "# Detect intersecting states\n",
    "intersecting_states = auto_downloader.detect_intersecting_states(test_area.geometry)\n",
    "\n",
    "print(f\"Found {len(intersecting_states)} intersecting states:\")\n",
    "for state_name, state_code, intersection_geom in intersecting_states:\n",
    "    print(f\"  - {state_name} ({state_code})\")\n",
    "    print(f\"    Intersection area: {intersection_geom.area/1000000:.2f} km²\")"
   ]
  },
  {
   "cell_type": "markdown",
   "id": "e4505ef0",
   "metadata": {},
   "source": [
    "## 3. Visualize the State Boundaries and Intersections\n",
    "\n",
    "Let's visualize how our test area intersects with the German federal states."
   ]
  },
  {
   "cell_type": "code",
   "execution_count": null,
   "id": "ca2b5fdd",
   "metadata": {},
   "outputs": [],
   "source": [
    "# Load German states for visualization\n",
    "states_gdf = auto_downloader._load_german_states()\n",
    "\n",
    "# Get the states that intersect with our area\n",
    "intersecting_state_names = [s[0] for s in intersecting_states]\n",
    "intersecting_states_gdf = states_gdf[states_gdf['name'].isin(intersecting_state_names)]\n",
    "\n",
    "# Create visualization\n",
    "fig, ax = plt.subplots(figsize=(12, 10))\n",
    "\n",
    "# Plot all German states in light gray\n",
    "states_gdf.plot(ax=ax, color='lightgray', alpha=0.5, edgecolor='white')\n",
    "\n",
    "# Plot intersecting states in blue\n",
    "intersecting_states_gdf.plot(ax=ax, color='lightblue', alpha=0.7, edgecolor='blue')\n",
    "\n",
    "# Plot our test area in red\n",
    "test_area.plot(ax=ax, color='red', alpha=0.8, edgecolor='darkred', linewidth=2)\n",
    "\n",
    "# Add state name labels\n",
    "for idx, row in intersecting_states_gdf.iterrows():\n",
    "    centroid = row.geometry.centroid\n",
    "    ax.annotate(row['name'], xy=(centroid.x, centroid.y), \n",
    "                xytext=(5, 5), textcoords='offset points', \n",
    "                fontsize=10, ha='left', va='bottom',\n",
    "                bbox=dict(boxstyle='round,pad=0.3', facecolor='white', alpha=0.8))\n",
    "\n",
    "ax.set_title('Test Area and Intersecting German States', fontsize=14)\n",
    "ax.legend(['Other states', 'Intersecting states', 'Test area'])\n",
    "plt.tight_layout()\n",
    "plt.show()"
   ]
  },
  {
   "cell_type": "markdown",
   "id": "de0ab86c",
   "metadata": {},
   "source": [
    "## 4. Download Orthophotos Automatically\n",
    "\n",
    "Now let's use the auto downloader to download RGB orthophotos from all relevant WMS services."
   ]
  },
  {
   "cell_type": "code",
   "execution_count": null,
   "id": "0476a9e3",
   "metadata": {},
   "outputs": [],
   "source": [
    "# Set up download parameters\n",
    "AREA_NAME = \"multi_state_test_area\"\n",
    "OUT_PATH = Path(\"./auto_download_results\")\n",
    "GRID_SPACING = 2000  # 2km tiles (larger for demo to reduce download time)\n",
    "\n",
    "# Create output directory\n",
    "OUT_PATH.mkdir(exist_ok=True)\n",
    "\n",
    "print(f\"Starting automatic download for area: {AREA_NAME}\")\n",
    "print(f\"Output path: {OUT_PATH}\")\n",
    "print(f\"Grid spacing: {GRID_SPACING}m\")"
   ]
  },
  {
   "cell_type": "code",
   "execution_count": null,
   "id": "aa46c79e",
   "metadata": {},
   "outputs": [],
   "source": [
    "# Method 1: Using the convenience function\n",
    "results = auto_download_orthophotos(\n",
    "    area_name=AREA_NAME,\n",
    "    area_polygon=test_area.geometry,\n",
    "    out_path=OUT_PATH,\n",
    "    grid_spacing=GRID_SPACING,\n",
    "    image_type=\"RGB\",\n",
    "    filename_prefix=\"auto_rgb\"\n",
    ")\n",
    "\n",
    "print(f\"\\nDownload completed! Results:\")\n",
    "total_images = 0\n",
    "for state_name, area_dataset in results.items():\n",
    "    num_images = len(area_dataset.images)\n",
    "    total_images += num_images\n",
    "    print(f\"  {state_name}: {num_images} images\")\n",
    "\n",
    "print(f\"\\nTotal images downloaded: {total_images}\")"
   ]
  },
  {
   "cell_type": "markdown",
   "id": "28e621ba",
   "metadata": {},
   "source": [
    "## 5. Alternative: Using the Class-Based Approach\n",
    "\n",
    "You can also use the `AutoOrthophotoDownloader` class directly for more control."
   ]
  },
  {
   "cell_type": "code",
   "execution_count": null,
   "id": "2cdd2b65",
   "metadata": {},
   "outputs": [],
   "source": [
    "# Method 2: Using the class directly\n",
    "auto_downloader = AutoOrthophotoDownloader(grid_spacing=GRID_SPACING)\n",
    "\n",
    "# Download RGB images\n",
    "rgb_results = auto_downloader.download_rgb_images_auto(\n",
    "    area_name=f\"{AREA_NAME}_class_method\",\n",
    "    area_polygon=test_area.geometry,\n",
    "    out_path=OUT_PATH / \"class_method\",\n",
    "    filename_prefix=\"class_rgb\"\n",
    ")\n",
    "\n",
    "print(f\"\\nClass-based download completed! Results:\")\n",
    "total_images = 0\n",
    "for state_name, area_dataset in rgb_results.items():\n",
    "    num_images = len(area_dataset.images)\n",
    "    total_images += num_images\n",
    "    print(f\"  {state_name}: {num_images} images\")\n",
    "\n",
    "print(f\"\\nTotal images downloaded: {total_images}\")"
   ]
  },
  {
   "cell_type": "markdown",
   "id": "8a5d6143",
   "metadata": {},
   "source": [
    "## 6. Download CIR Images (Color Infrared)\n",
    "\n",
    "If CIR images are available for the intersecting states, you can also download them automatically."
   ]
  },
  {
   "cell_type": "code",
   "execution_count": null,
   "id": "84fa0a8c",
   "metadata": {},
   "outputs": [],
   "source": [
    "# Download CIR images\n",
    "try:\n",
    "    cir_results = auto_downloader.download_cir_images_auto(\n",
    "        area_name=f\"{AREA_NAME}_cir\",\n",
    "        area_polygon=test_area.geometry,\n",
    "        out_path=OUT_PATH / \"cir\",\n",
    "        filename_prefix=\"auto_cir\"\n",
    "    )\n",
    "    \n",
    "    print(f\"\\nCIR download completed! Results:\")\n",
    "    total_images = 0\n",
    "    for state_name, area_dataset in cir_results.items():\n",
    "        num_images = len(area_dataset.images)\n",
    "        total_images += num_images\n",
    "        print(f\"  {state_name}: {num_images} CIR images\")\n",
    "    \n",
    "    print(f\"\\nTotal CIR images downloaded: {total_images}\")\n",
    "    \n",
    "except Exception as e:\n",
    "    print(f\"CIR download failed: {e}\")\n",
    "    print(\"This may be because CIR images are not available for all intersecting states.\")"
   ]
  },
  {
   "cell_type": "markdown",
   "id": "9408b134",
   "metadata": {},
   "source": [
    "## 7. Download RGBI Images (RGB + Infrared)\n",
    "\n",
    "If both RGB and CIR images are available, you can download and merge them into RGBI images."
   ]
  },
  {
   "cell_type": "code",
   "execution_count": null,
   "id": "7af93291",
   "metadata": {},
   "outputs": [],
   "source": [
    "# Download RGBI images (RGB + Infrared merged)\n",
    "try:\n",
    "    rgbi_results = auto_downloader.download_rgbi_images_auto(\n",
    "        area_name=f\"{AREA_NAME}_rgbi\",\n",
    "        area_polygon=test_area.geometry,\n",
    "        out_path=OUT_PATH / \"rgbi\"\n",
    "    )\n",
    "    \n",
    "    print(f\"\\nRGBI download completed! Results:\")\n",
    "    total_images = 0\n",
    "    for state_name, area_dataset in rgbi_results.items():\n",
    "        num_images = len(area_dataset.images)\n",
    "        total_images += num_images\n",
    "        print(f\"  {state_name}: {num_images} RGBI images\")\n",
    "    \n",
    "    print(f\"\\nTotal RGBI images downloaded: {total_images}\")\n",
    "    \n",
    "except Exception as e:\n",
    "    print(f\"RGBI download failed: {e}\")\n",
    "    print(\"This may be because CIR images are not available for all intersecting states.\")"
   ]
  },
  {
   "cell_type": "markdown",
   "id": "f144fe6a",
   "metadata": {},
   "source": [
    "## 8. Inspect the Downloaded Results\n",
    "\n",
    "Let's examine what was downloaded and the file structure."
   ]
  },
  {
   "cell_type": "code",
   "execution_count": null,
   "id": "a973762e",
   "metadata": {},
   "outputs": [],
   "source": [
    "# List all downloaded files\n",
    "print(\"Downloaded files structure:\")\n",
    "for root, dirs, files in OUT_PATH.walk():\n",
    "    level = root.relative_to(OUT_PATH).parts.__len__()\n",
    "    indent = ' ' * 2 * level\n",
    "    print(f\"{indent}{root.name}/\")\n",
    "    subindent = ' ' * 2 * (level + 1)\n",
    "    for file in files:\n",
    "        print(f\"{subindent}{file}\")"
   ]
  },
  {
   "cell_type": "code",
   "execution_count": null,
   "id": "019e6395",
   "metadata": {},
   "outputs": [],
   "source": [
    "# Show summary statistics\n",
    "if results:\n",
    "    print(\"\\nDownload Summary:\")\n",
    "    print(\"=\" * 50)\n",
    "    \n",
    "    for state_name, area_dataset in results.items():\n",
    "        print(f\"\\n{state_name}:\")\n",
    "        print(f\"  Number of images: {len(area_dataset.images)}\")\n",
    "        print(f\"  Output path: {area_dataset.out_path}\")\n",
    "        print(f\"  Buffer size: {area_dataset.buffer_size}m\")\n",
    "        \n",
    "        if area_dataset.images:\n",
    "            # Show details of first image\n",
    "            first_image = area_dataset.images[0]\n",
    "            print(f\"  First image details:\")\n",
    "            print(f\"    Resolution: {first_image.resolution_m}m/pixel\")\n",
    "            print(f\"    Size: {first_image.width_px}x{first_image.height_px} pixels\")\n",
    "            print(f\"    CRS: {first_image.crs}\")\n",
    "            print(f\"    Download time: {first_image.download_time:.2f}s\")"
   ]
  },
  {
   "cell_type": "markdown",
   "id": "7f6e26a0",
   "metadata": {},
   "source": [
    "## Summary\n",
    "\n",
    "The `AutoOrthophotoDownloader` provides a convenient way to download orthophotos from areas that span multiple German federal states. It:\n",
    "\n",
    "1. **Automatically detects** which German federal states intersect with your area of interest\n",
    "2. **Finds the intersection geometry** for each state\n",
    "3. **Instantiates the appropriate WMS downloader** for each state\n",
    "4. **Downloads orthophotos** from each relevant WMS service\n",
    "5. **Organizes results** by state for easy access\n",
    "\n",
    "### Key Features:\n",
    "- **Automatic detection** of required WMS services\n",
    "- **Support for RGB, CIR, and RGBI** image types\n",
    "- **Handles state boundaries** and intersections automatically\n",
    "- **Organized output** with separate directories for each state\n",
    "- **Error handling** for states where downloads fail\n",
    "- **Convenience function** for simple use cases\n",
    "- **Class-based approach** for more control\n",
    "\n",
    "This eliminates the need to manually determine which WMS services cover your area and handle the complexity of downloading from multiple sources."
   ]
  }
 ],
 "metadata": {
  "language_info": {
   "name": "python"
  }
 },
 "nbformat": 4,
 "nbformat_minor": 5
}
